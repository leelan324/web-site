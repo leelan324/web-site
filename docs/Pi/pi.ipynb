{
 "cells": [
  {
   "cell_type": "markdown",
   "id": "841e9e46-8f60-4478-82b6-e058c92d5d8b",
   "metadata": {
    "tags": []
   },
   "source": [
    "# Juliaで円周率を求める（ラマヌジャンの公式）\n",
    "\n",
    "* 動作確認環境\n",
    "    * Windows 11\n",
    "    * Julia v1.8.5"
   ]
  },
  {
   "cell_type": "markdown",
   "id": "bb10b091-a8b1-4177-8edc-02f4aa9ffe0d",
   "metadata": {},
   "source": [
    "Ramanujanの公式①\n",
    "$$\\frac{1}{\\pi}=\\frac{2\\sqrt2}{{99}^2}\\sum_{n=0}^{\\infty}\\frac{\\left(4n\\right)!\\left(1103+26390n\\right)}{\\left({396}^n\\cdot n!\\right)^4}$$"
   ]
  },
  {
   "cell_type": "code",
   "execution_count": 1,
   "id": "b1c6c509-334e-4e37-ae69-cdb9a3113cde",
   "metadata": {},
   "outputs": [
    {
     "data": {
      "text/plain": [
       "Ramanujan1 (generic function with 1 method)"
      ]
     },
     "execution_count": 1,
     "metadata": {},
     "output_type": "execute_result"
    }
   ],
   "source": [
    "function Ramanujan1(N)\n",
    "    sum = big(0.0)\n",
    "    for i in 0:N\n",
    "        n = big(i)\n",
    "        sum += factorial(4n) * (1103 + 26390n) / (396^n * factorial(n))^4\n",
    "    end\n",
    "    return 99^2 / (2 * sqrt(big(2)) * sum)\n",
    "end"
   ]
  },
  {
   "cell_type": "markdown",
   "id": "de100e00-eb8d-458a-b90b-84efd09cf6a5",
   "metadata": {},
   "source": [
    "Ramanujanの公式②\n",
    "$$\\frac{1}{\\pi}=\\frac{1}{4\\cdot882}\\sum_{n=0}^{\\infty}\\frac{\\left(-1\\right)^n\\left(4n\\right)!\\left(1123+21460n\\right)}{\\left(4^n\\cdot n!\\right)^4\\cdot{882}^{2n}}$$"
   ]
  },
  {
   "cell_type": "code",
   "execution_count": 2,
   "id": "00f62286-9e6d-4d55-95b1-1c9f1f92a98e",
   "metadata": {},
   "outputs": [
    {
     "data": {
      "text/plain": [
       "Ramanujan2 (generic function with 1 method)"
      ]
     },
     "execution_count": 2,
     "metadata": {},
     "output_type": "execute_result"
    }
   ],
   "source": [
    "function Ramanujan2(N)\n",
    "    sum = big(0.0)\n",
    "    for i in 0:N\n",
    "        n = big(i)\n",
    "        sum += (-1)^n * factorial(4n) * (1123 + 21460n) / ((4^n * factorial(n))^4 * 882^2n)\n",
    "    end\n",
    "    return 3528 / sum\n",
    "end"
   ]
  },
  {
   "cell_type": "markdown",
   "id": "d98e7574-8c83-4b66-95a2-f48b0145fe30",
   "metadata": {},
   "source": [
    "Chudnovskyの公式\n",
    "$$\\frac{1}{\\pi}=12\\sum_{n=0}^{\\infty}\\frac{\\left(-1\\right)^n\\left(6n\\right)!\\left(13591409+545140134n\\right)}{\\left(3n\\right)!\\left(n!\\right)^3\\left({640320}^3\\right)^{n+\\frac{1}{2}}}$$"
   ]
  },
  {
   "cell_type": "code",
   "execution_count": 3,
   "id": "d1c047ea-e8c6-437b-b518-83ebb820c44a",
   "metadata": {},
   "outputs": [
    {
     "data": {
      "text/plain": [
       "Chudnovsky (generic function with 1 method)"
      ]
     },
     "execution_count": 3,
     "metadata": {},
     "output_type": "execute_result"
    }
   ],
   "source": [
    "function Chudnovsky(N)\n",
    "    sum = big(0.0)\n",
    "    for i in 0:N\n",
    "        n = big(i)\n",
    "        sum += (-1)^n * factorial(6n) * (13591409 + 545140134n) / (factorial(3n) * (factorial(n))^3 * (640320^3)^(n+1/2))\n",
    "    end\n",
    "    return 1 / (12 * sum)\n",
    "end"
   ]
  },
  {
   "cell_type": "code",
   "execution_count": 4,
   "id": "0f744484-6b84-4532-a5a9-aab1ab177cfc",
   "metadata": {},
   "outputs": [
    {
     "data": {
      "text/plain": [
       "3.141592653589793238462643383279502884197169399375105821020933242469729074078186"
      ]
     },
     "execution_count": 4,
     "metadata": {},
     "output_type": "execute_result"
    }
   ],
   "source": [
    "Ramanujan1(6)"
   ]
  },
  {
   "cell_type": "code",
   "execution_count": 5,
   "id": "b4db1ec4-ead8-4d97-a8c2-39631c80158d",
   "metadata": {},
   "outputs": [
    {
     "data": {
      "text/plain": [
       "3.141592653589793238462643383279502884197169399375105797313049395317182201783203"
      ]
     },
     "execution_count": 5,
     "metadata": {},
     "output_type": "execute_result"
    }
   ],
   "source": [
    "Ramanujan2(8)"
   ]
  },
  {
   "cell_type": "code",
   "execution_count": 6,
   "id": "1f9a6b99-3d9a-4c05-b221-2be1537970ce",
   "metadata": {},
   "outputs": [
    {
     "data": {
      "text/plain": [
       "3.14159265358979323846264338327950288419716939937510582098494740802066245278974"
      ]
     },
     "execution_count": 6,
     "metadata": {},
     "output_type": "execute_result"
    }
   ],
   "source": [
    "Chudnovsky(3)"
   ]
  },
  {
   "cell_type": "code",
   "execution_count": 7,
   "id": "7bd50c9c-1474-42be-b3e1-33be9ea8227b",
   "metadata": {},
   "outputs": [
    {
     "name": "stdout",
     "output_type": "stream",
     "text": [
      "MethodInstance for Ramanujan1(::Int64)\n",
      "  from Ramanujan1(N) in Main at In[1]:1\n",
      "Arguments\n",
      "  #self#\u001b[36m::Core.Const(Ramanujan1)\u001b[39m\n",
      "  N\u001b[36m::Int64\u001b[39m\n",
      "Locals\n",
      "  @_3\u001b[33m\u001b[1m::Union{Nothing, Tuple{Int64, Int64}}\u001b[22m\u001b[39m\n",
      "  sum\u001b[36m::BigFloat\u001b[39m\n",
      "  i\u001b[36m::Int64\u001b[39m\n",
      "  n\u001b[36m::BigInt\u001b[39m\n",
      "Body\u001b[36m::BigFloat\u001b[39m\n",
      "\u001b[90m1 ─\u001b[39m       (sum = Main.big(0.0))\n",
      "\u001b[90m│  \u001b[39m %2  = (0:N)\u001b[36m::Core.PartialStruct(UnitRange{Int64}, Any[Core.Const(0), Int64])\u001b[39m\n",
      "\u001b[90m│  \u001b[39m       (@_3 = Base.iterate(%2))\n",
      "\u001b[90m│  \u001b[39m %4  = (@_3 === nothing)\u001b[36m::Bool\u001b[39m\n",
      "\u001b[90m│  \u001b[39m %5  = Base.not_int(%4)\u001b[36m::Bool\u001b[39m\n",
      "\u001b[90m└──\u001b[39m       goto #4 if not %5\n",
      "\u001b[90m2 ┄\u001b[39m %7  = @_3\u001b[36m::Tuple{Int64, Int64}\u001b[39m\n",
      "\u001b[90m│  \u001b[39m       (i = Core.getfield(%7, 1))\n",
      "\u001b[90m│  \u001b[39m %9  = Core.getfield(%7, 2)\u001b[36m::Int64\u001b[39m\n",
      "\u001b[90m│  \u001b[39m       (n = Main.big(i))\n",
      "\u001b[90m│  \u001b[39m %11 = sum\u001b[36m::BigFloat\u001b[39m\n",
      "\u001b[90m│  \u001b[39m %12 = (4 * n)\u001b[36m::BigInt\u001b[39m\n",
      "\u001b[90m│  \u001b[39m %13 = Main.factorial(%12)\u001b[36m::BigInt\u001b[39m\n",
      "\u001b[90m│  \u001b[39m %14 = (26390 * n)\u001b[36m::BigInt\u001b[39m\n",
      "\u001b[90m│  \u001b[39m %15 = (1103 + %14)\u001b[36m::BigInt\u001b[39m\n",
      "\u001b[90m│  \u001b[39m %16 = (%13 * %15)\u001b[36m::BigInt\u001b[39m\n",
      "\u001b[90m│  \u001b[39m %17 = (396 ^ n)\u001b[36m::BigInt\u001b[39m\n",
      "\u001b[90m│  \u001b[39m %18 = Main.factorial(n)\u001b[36m::BigInt\u001b[39m\n",
      "\u001b[90m│  \u001b[39m %19 = (%17 * %18)\u001b[36m::BigInt\u001b[39m\n",
      "\u001b[90m│  \u001b[39m %20 = Core.apply_type(Base.Val, 4)\u001b[36m::Core.Const(Val{4})\u001b[39m\n",
      "\u001b[90m│  \u001b[39m %21 = (%20)()\u001b[36m::Core.Const(Val{4}())\u001b[39m\n",
      "\u001b[90m│  \u001b[39m %22 = Base.literal_pow(Main.:^, %19, %21)\u001b[36m::BigInt\u001b[39m\n",
      "\u001b[90m│  \u001b[39m %23 = (%16 / %22)\u001b[36m::BigFloat\u001b[39m\n",
      "\u001b[90m│  \u001b[39m       (sum = %11 + %23)\n",
      "\u001b[90m│  \u001b[39m       (@_3 = Base.iterate(%2, %9))\n",
      "\u001b[90m│  \u001b[39m %26 = (@_3 === nothing)\u001b[36m::Bool\u001b[39m\n",
      "\u001b[90m│  \u001b[39m %27 = Base.not_int(%26)\u001b[36m::Bool\u001b[39m\n",
      "\u001b[90m└──\u001b[39m       goto #4 if not %27\n",
      "\u001b[90m3 ─\u001b[39m       goto #2\n",
      "\u001b[90m4 ┄\u001b[39m %30 = Core.apply_type(Base.Val, 2)\u001b[36m::Core.Const(Val{2})\u001b[39m\n",
      "\u001b[90m│  \u001b[39m %31 = (%30)()\u001b[36m::Core.Const(Val{2}())\u001b[39m\n",
      "\u001b[90m│  \u001b[39m %32 = Base.literal_pow(Main.:^, 99, %31)\u001b[36m::Core.Const(9801)\u001b[39m\n",
      "\u001b[90m│  \u001b[39m %33 = Main.big(2)\u001b[36m::BigInt\u001b[39m\n",
      "\u001b[90m│  \u001b[39m %34 = Main.sqrt(%33)\u001b[36m::BigFloat\u001b[39m\n",
      "\u001b[90m│  \u001b[39m %35 = (2 * %34 * sum)\u001b[36m::BigFloat\u001b[39m\n",
      "\u001b[90m│  \u001b[39m %36 = (%32 / %35)\u001b[36m::BigFloat\u001b[39m\n",
      "\u001b[90m└──\u001b[39m       return %36\n",
      "\n"
     ]
    }
   ],
   "source": [
    "@code_warntype Ramanujan1(0)"
   ]
  },
  {
   "cell_type": "code",
   "execution_count": 8,
   "id": "a658d777-1aa4-400e-96db-0d984c200dac",
   "metadata": {},
   "outputs": [
    {
     "name": "stdout",
     "output_type": "stream",
     "text": [
      "MethodInstance for Ramanujan2(::Int64)\n",
      "  from Ramanujan2(N) in Main at In[2]:1\n",
      "Arguments\n",
      "  #self#\u001b[36m::Core.Const(Ramanujan2)\u001b[39m\n",
      "  N\u001b[36m::Int64\u001b[39m\n",
      "Locals\n",
      "  @_3\u001b[33m\u001b[1m::Union{Nothing, Tuple{Int64, Int64}}\u001b[22m\u001b[39m\n",
      "  sum\u001b[36m::BigFloat\u001b[39m\n",
      "  i\u001b[36m::Int64\u001b[39m\n",
      "  n\u001b[36m::BigInt\u001b[39m\n",
      "Body\u001b[36m::BigFloat\u001b[39m\n",
      "\u001b[90m1 ─\u001b[39m       (sum = Main.big(0.0))\n",
      "\u001b[90m│  \u001b[39m %2  = (0:N)\u001b[36m::Core.PartialStruct(UnitRange{Int64}, Any[Core.Const(0), Int64])\u001b[39m\n",
      "\u001b[90m│  \u001b[39m       (@_3 = Base.iterate(%2))\n",
      "\u001b[90m│  \u001b[39m %4  = (@_3 === nothing)\u001b[36m::Bool\u001b[39m\n",
      "\u001b[90m│  \u001b[39m %5  = Base.not_int(%4)\u001b[36m::Bool\u001b[39m\n",
      "\u001b[90m└──\u001b[39m       goto #4 if not %5\n",
      "\u001b[90m2 ┄\u001b[39m %7  = @_3\u001b[36m::Tuple{Int64, Int64}\u001b[39m\n",
      "\u001b[90m│  \u001b[39m       (i = Core.getfield(%7, 1))\n",
      "\u001b[90m│  \u001b[39m %9  = Core.getfield(%7, 2)\u001b[36m::Int64\u001b[39m\n",
      "\u001b[90m│  \u001b[39m       (n = Main.big(i))\n",
      "\u001b[90m│  \u001b[39m %11 = sum\u001b[36m::BigFloat\u001b[39m\n",
      "\u001b[90m│  \u001b[39m %12 = ((-1) ^ n)\u001b[36m::BigInt\u001b[39m\n",
      "\u001b[90m│  \u001b[39m %13 = (4 * n)\u001b[36m::BigInt\u001b[39m\n",
      "\u001b[90m│  \u001b[39m %14 = Main.factorial(%13)\u001b[36m::BigInt\u001b[39m\n",
      "\u001b[90m│  \u001b[39m %15 = (21460 * n)\u001b[36m::BigInt\u001b[39m\n",
      "\u001b[90m│  \u001b[39m %16 = (1123 + %15)\u001b[36m::BigInt\u001b[39m\n",
      "\u001b[90m│  \u001b[39m %17 = (%12 * %14 * %16)\u001b[36m::BigInt\u001b[39m\n",
      "\u001b[90m│  \u001b[39m %18 = (4 ^ n)\u001b[36m::BigInt\u001b[39m\n",
      "\u001b[90m│  \u001b[39m %19 = Main.factorial(n)\u001b[36m::BigInt\u001b[39m\n",
      "\u001b[90m│  \u001b[39m %20 = (%18 * %19)\u001b[36m::BigInt\u001b[39m\n",
      "\u001b[90m│  \u001b[39m %21 = Core.apply_type(Base.Val, 4)\u001b[36m::Core.Const(Val{4})\u001b[39m\n",
      "\u001b[90m│  \u001b[39m %22 = (%21)()\u001b[36m::Core.Const(Val{4}())\u001b[39m\n",
      "\u001b[90m│  \u001b[39m %23 = Base.literal_pow(Main.:^, %20, %22)\u001b[36m::BigInt\u001b[39m\n",
      "\u001b[90m│  \u001b[39m %24 = (2 * n)\u001b[36m::BigInt\u001b[39m\n",
      "\u001b[90m│  \u001b[39m %25 = (882 ^ %24)\u001b[36m::BigInt\u001b[39m\n",
      "\u001b[90m│  \u001b[39m %26 = (%23 * %25)\u001b[36m::BigInt\u001b[39m\n",
      "\u001b[90m│  \u001b[39m %27 = (%17 / %26)\u001b[36m::BigFloat\u001b[39m\n",
      "\u001b[90m│  \u001b[39m       (sum = %11 + %27)\n",
      "\u001b[90m│  \u001b[39m       (@_3 = Base.iterate(%2, %9))\n",
      "\u001b[90m│  \u001b[39m %30 = (@_3 === nothing)\u001b[36m::Bool\u001b[39m\n",
      "\u001b[90m│  \u001b[39m %31 = Base.not_int(%30)\u001b[36m::Bool\u001b[39m\n",
      "\u001b[90m└──\u001b[39m       goto #4 if not %31\n",
      "\u001b[90m3 ─\u001b[39m       goto #2\n",
      "\u001b[90m4 ┄\u001b[39m %34 = (3528 / sum)\u001b[36m::BigFloat\u001b[39m\n",
      "\u001b[90m└──\u001b[39m       return %34\n",
      "\n"
     ]
    }
   ],
   "source": [
    "@code_warntype Ramanujan2(0)"
   ]
  },
  {
   "cell_type": "code",
   "execution_count": 9,
   "id": "02bd4bbe-138d-4258-bcb8-87cade9fdf4e",
   "metadata": {},
   "outputs": [
    {
     "name": "stdout",
     "output_type": "stream",
     "text": [
      "MethodInstance for Chudnovsky(::Int64)\n",
      "  from Chudnovsky(N) in Main at In[3]:1\n",
      "Arguments\n",
      "  #self#\u001b[36m::Core.Const(Chudnovsky)\u001b[39m\n",
      "  N\u001b[36m::Int64\u001b[39m\n",
      "Locals\n",
      "  @_3\u001b[33m\u001b[1m::Union{Nothing, Tuple{Int64, Int64}}\u001b[22m\u001b[39m\n",
      "  sum\u001b[36m::BigFloat\u001b[39m\n",
      "  i\u001b[36m::Int64\u001b[39m\n",
      "  n\u001b[36m::BigInt\u001b[39m\n",
      "Body\u001b[36m::BigFloat\u001b[39m\n",
      "\u001b[90m1 ─\u001b[39m       (sum = Main.big(0.0))\n",
      "\u001b[90m│  \u001b[39m %2  = (0:N)\u001b[36m::Core.PartialStruct(UnitRange{Int64}, Any[Core.Const(0), Int64])\u001b[39m\n",
      "\u001b[90m│  \u001b[39m       (@_3 = Base.iterate(%2))\n",
      "\u001b[90m│  \u001b[39m %4  = (@_3 === nothing)\u001b[36m::Bool\u001b[39m\n",
      "\u001b[90m│  \u001b[39m %5  = Base.not_int(%4)\u001b[36m::Bool\u001b[39m\n",
      "\u001b[90m└──\u001b[39m       goto #4 if not %5\n",
      "\u001b[90m2 ┄\u001b[39m %7  = @_3\u001b[36m::Tuple{Int64, Int64}\u001b[39m\n",
      "\u001b[90m│  \u001b[39m       (i = Core.getfield(%7, 1))\n",
      "\u001b[90m│  \u001b[39m %9  = Core.getfield(%7, 2)\u001b[36m::Int64\u001b[39m\n",
      "\u001b[90m│  \u001b[39m       (n = Main.big(i))\n",
      "\u001b[90m│  \u001b[39m %11 = sum\u001b[36m::BigFloat\u001b[39m\n",
      "\u001b[90m│  \u001b[39m %12 = ((-1) ^ n)\u001b[36m::BigInt\u001b[39m\n",
      "\u001b[90m│  \u001b[39m %13 = (6 * n)\u001b[36m::BigInt\u001b[39m\n",
      "\u001b[90m│  \u001b[39m %14 = Main.factorial(%13)\u001b[36m::BigInt\u001b[39m\n",
      "\u001b[90m│  \u001b[39m %15 = (545140134 * n)\u001b[36m::BigInt\u001b[39m\n",
      "\u001b[90m│  \u001b[39m %16 = (13591409 + %15)\u001b[36m::BigInt\u001b[39m\n",
      "\u001b[90m│  \u001b[39m %17 = (%12 * %14 * %16)\u001b[36m::BigInt\u001b[39m\n",
      "\u001b[90m│  \u001b[39m %18 = (3 * n)\u001b[36m::BigInt\u001b[39m\n",
      "\u001b[90m│  \u001b[39m %19 = Main.factorial(%18)\u001b[36m::BigInt\u001b[39m\n",
      "\u001b[90m│  \u001b[39m %20 = Main.factorial(n)\u001b[36m::BigInt\u001b[39m\n",
      "\u001b[90m│  \u001b[39m %21 = Core.apply_type(Base.Val, 3)\u001b[36m::Core.Const(Val{3})\u001b[39m\n",
      "\u001b[90m│  \u001b[39m %22 = (%21)()\u001b[36m::Core.Const(Val{3}())\u001b[39m\n",
      "\u001b[90m│  \u001b[39m %23 = Base.literal_pow(Main.:^, %20, %22)\u001b[36m::BigInt\u001b[39m\n",
      "\u001b[90m│  \u001b[39m %24 = Core.apply_type(Base.Val, 3)\u001b[36m::Core.Const(Val{3})\u001b[39m\n",
      "\u001b[90m│  \u001b[39m %25 = (%24)()\u001b[36m::Core.Const(Val{3}())\u001b[39m\n",
      "\u001b[90m│  \u001b[39m %26 = Base.literal_pow(Main.:^, 640320, %25)\u001b[36m::Core.Const(262537412640768000)\u001b[39m\n",
      "\u001b[90m│  \u001b[39m %27 = n\u001b[36m::BigInt\u001b[39m\n",
      "\u001b[90m│  \u001b[39m %28 = (1 / 2)\u001b[36m::Core.Const(0.5)\u001b[39m\n",
      "\u001b[90m│  \u001b[39m %29 = (%27 + %28)\u001b[36m::BigFloat\u001b[39m\n",
      "\u001b[90m│  \u001b[39m %30 = (%26 ^ %29)\u001b[36m::BigFloat\u001b[39m\n",
      "\u001b[90m│  \u001b[39m %31 = (%19 * %23 * %30)\u001b[36m::BigFloat\u001b[39m\n",
      "\u001b[90m│  \u001b[39m %32 = (%17 / %31)\u001b[36m::BigFloat\u001b[39m\n",
      "\u001b[90m│  \u001b[39m       (sum = %11 + %32)\n",
      "\u001b[90m│  \u001b[39m       (@_3 = Base.iterate(%2, %9))\n",
      "\u001b[90m│  \u001b[39m %35 = (@_3 === nothing)\u001b[36m::Bool\u001b[39m\n",
      "\u001b[90m│  \u001b[39m %36 = Base.not_int(%35)\u001b[36m::Bool\u001b[39m\n",
      "\u001b[90m└──\u001b[39m       goto #4 if not %36\n",
      "\u001b[90m3 ─\u001b[39m       goto #2\n",
      "\u001b[90m4 ┄\u001b[39m %39 = (12 * sum)\u001b[36m::BigFloat\u001b[39m\n",
      "\u001b[90m│  \u001b[39m %40 = (1 / %39)\u001b[36m::BigFloat\u001b[39m\n",
      "\u001b[90m└──\u001b[39m       return %40\n",
      "\n"
     ]
    }
   ],
   "source": [
    "@code_warntype Chudnovsky(0)"
   ]
  }
 ],
 "metadata": {
  "kernelspec": {
   "display_name": "Julia 1.8.5",
   "language": "julia",
   "name": "julia-1.8"
  },
  "language_info": {
   "file_extension": ".jl",
   "mimetype": "application/julia",
   "name": "julia",
   "version": "1.8.5"
  }
 },
 "nbformat": 4,
 "nbformat_minor": 5
}
